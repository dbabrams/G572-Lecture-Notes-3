{
 "cells": [
  {
   "cell_type": "markdown",
   "metadata": {},
   "source": [
    "<a id='Top'></a>\n",
    "# <center>Week 3 Lecture Notes: Pandas and Plotting Data</center>\n",
    "\n",
    "<ul>\n",
    "    <li><a href='#Pandas'>Module 2.0. Pandas</a></li>\n",
    "    <li><a href='#Plotting'>Module 2.1. Plotting with Pandas</a></li>\n",
    "</ul>\n",
    "\n"
   ]
  },
  {
   "cell_type": "markdown",
   "metadata": {},
   "source": [
    "<a id='Pandas'></a>\n",
    "\n",
    "\n",
    "# Module 2.0 Pandas\n",
    "\n",
    "For the rest of the semester, we are going to start focussing on the tools available to solve the hydrogeologic issues that we discuss in class. Homework 3 is going to plot data\n",
    "\n",
    "To do this, we need to be able to do three main things in Python:\n",
    "\n",
    "<ul>\n",
    "    <li>Import large datasets</li>\n",
    "    <li>Plot the data</li>\n",
    "</ul>\n",
    "\n",
    "For this, we are going to need to take advantage of the following libraries:\n",
    "\n",
    "<ul>\n",
    "    <li>Pandas Data Analysis Library</li>\n",
    "    <li>Matplotlib</li>\n",
    "</ul>\n",
    "\n",
    "Let's import the libraries that we are going to use today. We will discuss them further as we introduce them."
   ]
  },
  {
   "cell_type": "code",
   "execution_count": null,
   "metadata": {},
   "outputs": [],
   "source": [
    "# import pandas with alias pd\n",
    "import pandas as pd\n",
    "# import matplotlib as plt\n",
    "import matplotlib.pyplot as plt\n",
    "%matplotlib inline"
   ]
  },
  {
   "cell_type": "markdown",
   "metadata": {
    "slideshow": {
     "slide_type": "fragment"
    }
   },
   "source": [
    "# Pandas\n",
    "\n",
    "The Python Data Analysis Library, or Pandas, is an open source library providing high-performance, easy-to-use data structures and data analysis tools for Python.\n",
    "\n",
    "https://pandas.pydata.org/\n",
    "\n",
    "<img src = \"https://d1o50x50snmhul.cloudfront.net/wp-content/uploads/2017/06/14111650/00000-00568744-800x533.jpg\"/>"
   ]
  },
  {
   "cell_type": "markdown",
   "metadata": {},
   "source": [
    "### Import Pandas\n",
    "\n",
    "To import Pandas, we type:\n",
    "\n",
    "`import pandas as pd`\n",
    "\n",
    "pd is an alias used by most Python coders."
   ]
  },
  {
   "cell_type": "markdown",
   "metadata": {},
   "source": [
    "### Pandas Data Types"
   ]
  },
  {
   "cell_type": "markdown",
   "metadata": {},
   "source": [
    "We will use two data types this semester, `DataSeries` and `DataFrames`. Here is a nice description of the differences: https://towardsdatascience.com/pandas-series-dataframe-explained-a178f9748d46. "
   ]
  },
  {
   "cell_type": "markdown",
   "metadata": {},
   "source": [
    "Let's first explore a `data series`, by creating a simple list. Recall from last time that a list is a data type native to Python that is defined using square brackets."
   ]
  },
  {
   "cell_type": "code",
   "execution_count": null,
   "metadata": {},
   "outputs": [],
   "source": [
    "#test list\n",
    "tl = [1,2,3]"
   ]
  },
  {
   "cell_type": "markdown",
   "metadata": {},
   "source": [
    "It is easy to convert a `list` to a `DataSeries`. "
   ]
  },
  {
   "cell_type": "code",
   "execution_count": null,
   "metadata": {},
   "outputs": [],
   "source": [
    "#convert list to data series\n",
    "ds = pd.Series(tl)\n",
    "print(ds)"
   ]
  },
  {
   "cell_type": "markdown",
   "metadata": {},
   "source": [
    "The `DataSeries` is still a 1D array, but it now has indices and values. The index defaults to a zero-indexed list incrementing by one, but it can actually be anything. Let's create a `DataSeries` with names of students in a class and scores on an assignment."
   ]
  },
  {
   "cell_type": "code",
   "execution_count": null,
   "metadata": {},
   "outputs": [],
   "source": [
    "#list of names\n",
    "names = ['George','Frank','Estelle',\"Lloyd\"]\n",
    "#list of scores\n",
    "scores = [15,23,25,25]"
   ]
  },
  {
   "cell_type": "markdown",
   "metadata": {},
   "source": [
    "Now let's create a Series, using the same function but with some revised arguments."
   ]
  },
  {
   "cell_type": "code",
   "execution_count": null,
   "metadata": {},
   "outputs": [],
   "source": [
    "ds_scores = pd.Series(data = scores,index=names)\n",
    "print(ds_scores)"
   ]
  },
  {
   "cell_type": "markdown",
   "metadata": {},
   "source": [
    "Success! Hmm, but I would like those scores in percentages, and this assignment is out of 30 points. When working with lists, we had to invoke a loop to do this kind of work (or a list comprehension, which is effectively a loop). With a data series, it is much simpler, we can divide the data series by 30 to get the percentages!"
   ]
  },
  {
   "cell_type": "code",
   "execution_count": null,
   "metadata": {
    "scrolled": true
   },
   "outputs": [],
   "source": [
    "ds_perc = ds_scores/30\n",
    "print(ds_perc)"
   ]
  },
  {
   "cell_type": "markdown",
   "metadata": {},
   "source": [
    "Probably need to curve this, let's be lazy and just add 15 points to everybody's score. Will it be just as easy as before?"
   ]
  },
  {
   "cell_type": "code",
   "execution_count": null,
   "metadata": {},
   "outputs": [],
   "source": [
    "ds_curv = ds_perc+15\n",
    "print(ds_curv)"
   ]
  },
  {
   "cell_type": "markdown",
   "metadata": {},
   "source": [
    "Ha ha, almost, but forgot to multiply the scores by 100 first. Let's try again."
   ]
  },
  {
   "cell_type": "code",
   "execution_count": null,
   "metadata": {
    "scrolled": true
   },
   "outputs": [],
   "source": [
    "ds_curv = 100*ds_perc+15\n",
    "print(ds_curv)"
   ]
  },
  {
   "cell_type": "markdown",
   "metadata": {},
   "source": [
    "Okay, I think we are done adjusting scores, and see how easy this is! You have very likely had to do similar work in Excel, and luckily, Pandas and Excel work very well together."
   ]
  },
  {
   "cell_type": "markdown",
   "metadata": {},
   "source": [
    "### Pandas as an Excel substitute\n",
    "\n",
    "Pandas allows for much of the same functionality as Excel. Pandas has a data type called `DataFrame` that works on the same principle of rows and columns as excel. Each row has an index, and each column has a heading.\n",
    "\n",
    "It is relatively simple to read an Excel file into Python with Pandas using the `pd.read_excel()` function. Similar in functionality, we can also read CSV files using `pd.read_csv()`. The output is a DataFrame."
   ]
  },
  {
   "cell_type": "code",
   "execution_count": null,
   "metadata": {},
   "outputs": [],
   "source": [
    "# read a csv file from the ISWS website\n",
    "# 'http://aqueduct.isws.illinois.edu/data/381651_HRY-91C_hyd.csv'\n",
    "df = pd.read_csv('http://aqueduct.isws.illinois.edu/data/381651_HRY-91C_hyd.csv')\n",
    "df"
   ]
  },
  {
   "cell_type": "markdown",
   "metadata": {},
   "source": [
    "As you can see above, all columns are imported into the DataFrame. If you want to work with a single column within a DataFrame, it is relatively simple using the format `DataFrame.ColumnName` or `DataFrame['ColumnName']`. This returns a `DataSeries`, which is discussed above."
   ]
  },
  {
   "cell_type": "code",
   "execution_count": null,
   "metadata": {
    "scrolled": true
   },
   "outputs": [],
   "source": [
    "#DataFrame[ColumnName]\n",
    "df['head']"
   ]
  },
  {
   "cell_type": "markdown",
   "metadata": {},
   "source": [
    "The depth to water and head above mean sea leavel are in feet. This dataframe makes the mistake of not clearly labeling this. Let's change names of the columns in the DataFrame to address this. "
   ]
  },
  {
   "cell_type": "code",
   "execution_count": null,
   "metadata": {},
   "outputs": [],
   "source": [
    "# change head to head_ft\n",
    "\n",
    "# change depth_to_water_from_land_surface to dtw_ft\n",
    "\n",
    "df = df.rename(columns={\"RECORD\": \"record\", \"TIMESTAMP\": \"timestamp\", \"depth_to_water_from_land_surface\": \"dtw_ft\", \"head\": \"head_ft\"})\n",
    "df"
   ]
  },
  {
   "cell_type": "markdown",
   "metadata": {},
   "source": [
    "# Example Problem"
   ]
  },
  {
   "cell_type": "markdown",
   "metadata": {},
   "source": [
    "As with `Data Series`, unit conversions are very simple to conduct in a `Data Frame`. Let's add a column that shows the head in meters above mean sea level. Click on the extremely short video to see me write this code.\n",
    "\n",
    "If you want to watch me write this code and briefly discuss Pandas, check out this video:\n",
    "https://mediaspace.illinois.edu/media/t/1_qcg1nwcq"
   ]
  },
  {
   "cell_type": "code",
   "execution_count": null,
   "metadata": {},
   "outputs": [],
   "source": [
    "# in the data frame we imported, let's convert head_ft and assign to a new column, head_m\n",
    "\n",
    "\n",
    "\n",
    "\n",
    "\n",
    "\n",
    "\n",
    "\n",
    "\n",
    "\n",
    "\n",
    "\n",
    "\n",
    "\n",
    "\n",
    "\n",
    "\n",
    "\n",
    "\n",
    "\n",
    "\n",
    "\n",
    "\n",
    "\n",
    "\n",
    "\n"
   ]
  },
  {
   "cell_type": "code",
   "execution_count": null,
   "metadata": {},
   "outputs": [],
   "source": [
    "# convert head_ft and assign to a new column, head_m\n",
    "df['head_m'] = df['head_ft']/3.28\n",
    "df"
   ]
  },
  {
   "cell_type": "markdown",
   "metadata": {},
   "source": [
    "<a id='Plotting'></a>\n",
    "\n",
    "\n",
    "\n",
    "# Module 2.1 Plotting Data with Pandas"
   ]
  },
  {
   "cell_type": "markdown",
   "metadata": {},
   "source": [
    "The next major thing that we want to do is visualize this data in a hydrograph, just like we did with the northeastern Illinois data in Module 1. Plotting data with Pandas is generally easy, let's give it a try!\n",
    "\n",
    "If you took a break after Module 2.0, go ahead and run this code block."
   ]
  },
  {
   "cell_type": "code",
   "execution_count": null,
   "metadata": {},
   "outputs": [],
   "source": [
    "# import math\n",
    "import math\n",
    "# import pandas with alias pd\n",
    "import pandas as pd\n",
    "# import matplotlib as plt\n",
    "import matplotlib.pyplot as plt\n",
    "%matplotlib inline\n",
    "\n",
    "import datetime"
   ]
  },
  {
   "cell_type": "code",
   "execution_count": null,
   "metadata": {},
   "outputs": [],
   "source": [
    "wellhead = pd.read_csv('http://aqueduct.isws.illinois.edu/data/381651_HRY-91C_hyd.csv')\n",
    "wellhead"
   ]
  },
  {
   "cell_type": "markdown",
   "metadata": {},
   "source": [
    "Before plotting, let's talk a little about indices. These are effectively your row numbers, or at least, that's how this example starts out. The indices are the values in the first column, and can be used to help reference your data. You can also extract just the indices using `DataFrame.Index`"
   ]
  },
  {
   "cell_type": "code",
   "execution_count": null,
   "metadata": {
    "scrolled": true
   },
   "outputs": [],
   "source": [
    "#DataFrame.Index\n",
    "wellhead.index"
   ]
  },
  {
   "cell_type": "markdown",
   "metadata": {},
   "source": [
    "Plotting with a Pandas DataFrame or Series can be done by simpling using `DataFrame['columnname'].plot()`. When plotting this way, Python knows to plot the index on the x-axis and all other columns on the y-axis."
   ]
  },
  {
   "cell_type": "code",
   "execution_count": null,
   "metadata": {},
   "outputs": [],
   "source": [
    "wellhead['head'].plot()"
   ]
  },
  {
   "cell_type": "markdown",
   "metadata": {},
   "source": [
    "While a good start, we really want a useful x-axis. We don't really want to plot against the Index in this case, but rather the date and time. \n",
    "\n",
    "This short cut way of plotting with pandas (`DataFrame['columnname'].plot()`) is limiting, but we can now instead use MatPlotLib, the powerful Python plotting library. You can read more about that here: https://matplotlib.org/. There is a lot to go through, but here we are going to start simple by calling the plot function from the plot library that we imported. \n",
    "\n",
    "Note that we generally do not import all of MatPlotLib, but rather just the parts that we use. You can see this by referring to the first code block of Module 2.1 to see that we only import the portion that we want to use, `matplotlib.pyplot`. Remember that we need to call a function from this library, and `matplotlib.pyplot` would be a lot to type each time. Instead, we assign an alias, `plt`. The final thing you will note in the code block at the beginning of Module 2.1 is that we write a line of code: `%matplotlib inline`. This cleans up plotting in a Jupyter Notebook, you would not use this in Spyder or other Python IDE's. \n",
    "\n",
    "Let's replicate the plot from above using direct calls to MatPlotLib. The first argument is the data for the x-axis, and the second for the y-axis. "
   ]
  },
  {
   "cell_type": "code",
   "execution_count": null,
   "metadata": {},
   "outputs": [],
   "source": [
    "#plot the index as the x-axis and head as the y-axis\n",
    "plt.plot(wellhead.index,wellhead['head'])"
   ]
  },
  {
   "cell_type": "markdown",
   "metadata": {},
   "source": [
    "That's an improvement, but we still want to show dates and not indices, so let's sway out the index for the `TIMESTAMP` column in the dataframe. "
   ]
  },
  {
   "cell_type": "code",
   "execution_count": null,
   "metadata": {},
   "outputs": [],
   "source": [
    "plt.plot(wellhead['TIMESTAMP'],wellhead['head'])"
   ]
  },
  {
   "cell_type": "markdown",
   "metadata": {},
   "source": [
    "On my computer, that took a long time (go get a cup of coffee while this finishes up; you can also give up and hit the `Interupt the kernel` (aka the `STOP`) button above if you are tired of waiting)! Turns out, Pandas does not like making plots with text strings, which is exactly what the `TIMESTAMP` reads in as. Luckily, there is a little trick. Let's change the format of the date and time. Python/Pandas has a specific datatype for this called `Timestamp`. While this can get complicated to convert in some situations, I've started us with an easy example. We are going to use the function `pd.to_datetime()`, with the argument being the column representing the text timestamp string. I actually just want to overwrite this column with the desired data format, which the following code does. "
   ]
  },
  {
   "cell_type": "code",
   "execution_count": null,
   "metadata": {},
   "outputs": [],
   "source": [
    "wellhead['TIMESTAMP'] = pd.to_datetime(wellhead['TIMESTAMP'])\n",
    "wellhead\n",
    "\n"
   ]
  },
  {
   "cell_type": "markdown",
   "metadata": {},
   "source": [
    "You'll notice that the output is very similar to what we have already seen. Pretty boring, right? Well, before anything else, let's just try plotting again. "
   ]
  },
  {
   "cell_type": "code",
   "execution_count": null,
   "metadata": {
    "scrolled": true
   },
   "outputs": [],
   "source": [
    "plt.plot(wellhead['TIMESTAMP'],wellhead['head'])\n",
    "# I am using the function xlim to set the beginning and ending dates\n",
    "plt.xlim([datetime.datetime(2015,1,1),datetime.datetime(2020,12,31)])"
   ]
  },
  {
   "cell_type": "markdown",
   "metadata": {},
   "source": [
    "Oh, that was faster! You will also notice that the x-axis plots just years, but the values we fed in were years, months, day, hour, minutes, and seconds. How does Python/Pandas/Matplotlib know to do this? It is because our data is not a Timestamp object, and not a text string as before, and it makes some educated guesses about what we want to show.\n",
    "\n",
    "Here's a little block of code that explores the data type that we originally read in and the convesaion."
   ]
  },
  {
   "cell_type": "code",
   "execution_count": null,
   "metadata": {},
   "outputs": [],
   "source": [
    "#checking the type of the original TIMESTAMP\n",
    "wellhead = pd.read_csv('http://aqueduct.isws.illinois.edu/data/381651_HRY-91C_hyd.csv')\n",
    "print(wellhead['TIMESTAMP'][0])\n",
    "print(type(wellhead['TIMESTAMP'][0]))"
   ]
  },
  {
   "cell_type": "code",
   "execution_count": null,
   "metadata": {},
   "outputs": [],
   "source": [
    "#checking the type of the converted TIMESTAMP to Timestamp\n",
    "wellhead['TIMESTAMP'] = pd.to_datetime(wellhead['TIMESTAMP'])\n",
    "print(wellhead['TIMESTAMP'][0])\n",
    "print(type(wellhead['TIMESTAMP'][0]))"
   ]
  },
  {
   "cell_type": "markdown",
   "metadata": {},
   "source": [
    "To read more, check out: https://pandas.pydata.org/pandas-docs/stable/reference/api/pandas.Timestamp.html."
   ]
  },
  {
   "cell_type": "markdown",
   "metadata": {},
   "source": [
    "# Now try it on your own"
   ]
  },
  {
   "cell_type": "markdown",
   "metadata": {},
   "source": [
    "You will be looking at sandstone data in your homework, let's look at some more here. In particular, let's plot water levels at two hydrographs with real-time data:\n",
    "\n",
    "Elwood 7 (which is near the declining Joliet cone of depression)\n",
    "\n",
    "DesPlaines 7 (near the Chicago airport and the recovering Elmhurst cone of depression)\n",
    "\n",
    "\n",
    "https://www.isws.illinois.edu/groundwater-science/groundwater-monitoring-well-networks/deep-sandstone-network\n",
    "\n",
    "If you want to watch me develop this code, check out this video: \n",
    "https://mediaspace.illinois.edu/media/t/1_7ns4t1kc"
   ]
  },
  {
   "cell_type": "code",
   "execution_count": null,
   "metadata": {},
   "outputs": [],
   "source": [
    "# data to import, Elwood 7\n",
    "#http://aqueduct.isws.illinois.edu/data/409818.csv\n",
    "\n",
    "# data to import, DesPlaines 7\n",
    "#http://aqueduct.isws.illinois.edu/data/410748.csv\n",
    "    "
   ]
  },
  {
   "cell_type": "code",
   "execution_count": null,
   "metadata": {},
   "outputs": [],
   "source": [
    "# write your code here\n",
    "\n",
    "\n",
    "\n",
    "\n",
    "\n",
    "\n",
    "\n",
    "\n",
    "\n",
    "\n",
    "\n",
    "\n",
    "\n",
    "\n",
    "\n",
    "\n",
    "\n",
    "\n",
    "\n",
    "\n",
    "\n",
    "\n",
    "\n",
    "\n",
    "\n",
    "\n",
    "\n",
    "\n",
    "\n",
    "\n",
    "\n",
    "\n",
    "\n",
    "\n",
    "\n",
    "\n",
    "\n",
    "\n",
    "\n",
    "\n"
   ]
  },
  {
   "cell_type": "code",
   "execution_count": null,
   "metadata": {},
   "outputs": [],
   "source": [
    "#answer\n",
    "e7 = pd.read_csv('http://aqueduct.isws.illinois.edu/data/409818.csv')\n",
    "e7['TIMESTAMP'] = pd.to_datetime(e7['TIMESTAMP'])\n",
    "\n",
    "d7 = pd.read_csv('http://aqueduct.isws.illinois.edu/data/410748.csv')\n",
    "d7['TIMESTAMP'] = pd.to_datetime(d7['TIMESTAMP'])\n",
    "\n",
    "plt.plot(e7['TIMESTAMP'],e7['GWE'])\n",
    "plt.plot(d7['TIMESTAMP'],d7['GWE'])"
   ]
  },
  {
   "cell_type": "markdown",
   "metadata": {},
   "source": [
    "### Adding Details to your plot"
   ]
  },
  {
   "cell_type": "markdown",
   "metadata": {},
   "source": [
    "The plot has the data, but is lacking in information. How will anybody know the title? The meaning of the axes? What the lines actually represent? Let's add this data."
   ]
  },
  {
   "cell_type": "code",
   "execution_count": null,
   "metadata": {},
   "outputs": [],
   "source": [
    "# note that you don't have to write everything separely, you can also add multiple x,y data pairs as arguments as follows\n",
    "plt.plot(e7['TIMESTAMP'],e7['GWE'],label='Elwood 7')\n",
    "plt.plot(d7['TIMESTAMP'],d7['GWE'],label='DesPlaines 7')\n",
    "plt.ylabel('Head (ft AMSL)')\n",
    "plt.title('Northeastern Illinois Sandstone Heads')\n",
    "plt.legend()"
   ]
  }
 ],
 "metadata": {
  "kernelspec": {
   "display_name": "Python 3",
   "language": "python",
   "name": "python3"
  },
  "language_info": {
   "codemirror_mode": {
    "name": "ipython",
    "version": 3
   },
   "file_extension": ".py",
   "mimetype": "text/x-python",
   "name": "python",
   "nbconvert_exporter": "python",
   "pygments_lexer": "ipython3",
   "version": "3.8.5"
  }
 },
 "nbformat": 4,
 "nbformat_minor": 1
}
