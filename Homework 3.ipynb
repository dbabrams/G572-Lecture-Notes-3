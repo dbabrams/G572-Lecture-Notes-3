{
 "cells": [
  {
   "cell_type": "markdown",
   "metadata": {
    "colab_type": "text",
    "id": "Q7Q_otrwfARQ"
   },
   "source": [
    "<a id='Top'></a>\n",
    "# <center>Homework 3</center>\n",
    "\n",
    "## <center>Due February 9th at 5:00 pm</center>"
   ]
  },
  {
   "cell_type": "markdown",
   "metadata": {
    "colab_type": "text",
    "id": "uXzesfaUfARU"
   },
   "source": [
    "Check out this youtube video from a primer on Homework 3: https://mediaspace.illinois.edu/media/t/1_ummzcquh\n",
    "\n",
    "In this problem set, you are going to be working with data related the deep sandstone aquifer of northeastern Illinois. This aquifer has been in the local news around Joliet and Aurora recently because of large and continuing declines in heads due to 150+ years of unsustainable withdrawals. [Click here](https://www.ideals.illinois.edu/bitstream/handle/2142/99644/gwavailneildeepaquiferfactsheet2_2015-02.pdf?sequence=2&isAllowed=y) to read a short paper discussing the issue, and [click here](https://www.theherald-news.com/2017/03/28/joliet-explores-options-on-future-water-supplies/ax3gcyb/) to read a recent local news article. Many communities and industries in this region, particularly Will, Kendall, Kane, and McHenry Counties, rely on deep sandstone wells as their source of water. "
   ]
  },
  {
   "cell_type": "markdown",
   "metadata": {
    "colab_type": "text",
    "id": "nOvpCqH2fARX"
   },
   "source": [
    "Here are the water levels at two wells, `Elk Grove Village #2` and `Joliet #10`. Elk Grove Village, which is next to O'Hare International Airport, is one of the many Cook County communities that switched off the sandstone in the 1980s. Joliet is in Will County, where sandstone usage persists. In fact, `Joliet #10` is located at the center of the cone of depression."
   ]
  },
  {
   "cell_type": "markdown",
   "metadata": {},
   "source": [
    "### <font color = purple>Part A</font>\n",
    "\n",
    "Use the followign cell to add necessary packages, modules, or libraries."
   ]
  },
  {
   "cell_type": "code",
   "execution_count": null,
   "metadata": {
    "colab": {},
    "colab_type": "code",
    "id": "Dm5kujJWfARZ"
   },
   "outputs": [],
   "source": [
    "# Use this cell to add necessary packages, modules, or libraries"
   ]
  },
  {
   "cell_type": "markdown",
   "metadata": {},
   "source": [
    "### <font color = purple>DO NOTE MODIFY THE FOLLOWING CODE CELL</font>"
   ]
  },
  {
   "cell_type": "code",
   "execution_count": null,
   "metadata": {
    "colab": {},
    "colab_type": "code",
    "id": "E9qNC9UgfARj"
   },
   "outputs": [],
   "source": [
    "# do not modify this cell, it contains the information you need to solve this problem\n",
    "\n",
    "# Joliet #10\n",
    "j10time = [1970, 1973, 1975, 1976, 1985, 1991, 1995, 2007, 2014, 2017] # Time in years\n",
    "j10dtw = [510, 570, 605, 630, 522, 749, 845, 813, 808, 887] # Depth to Water in ft below land surface\n",
    "j10_ls = 605 # Land Surface in ft above MSL\n",
    "\n",
    "# Elk Grove Village #2\n",
    "eg2time = [1971,1973,1974,1978,1979,1980,1985,1991,1995,2000,2006,2007,2014] # Time in years\n",
    "eg2dtw = [617,728,739,791,787,834,924,715,655,590,560,520,500] # Depth to Water in ft below land surface\n",
    "eg2_ls = 681 # Land Surface in ft above MSL"
   ]
  },
  {
   "cell_type": "markdown",
   "metadata": {},
   "source": [
    "### <font color = purple>Part B</font>\n",
    "\n",
    "As with last week, convert the water levels at Joliet and Elk Grove to feet above mean sea level. However, this time, do so by first converting the above depth to water list to feet above mean sea level using a Pandas `DataSeries`. \n"
   ]
  },
  {
   "cell_type": "code",
   "execution_count": null,
   "metadata": {},
   "outputs": [],
   "source": [
    "# write the code to convert depth to water to feet above mean sea level lin this code cell"
   ]
  },
  {
   "cell_type": "markdown",
   "metadata": {
    "colab_type": "text",
    "id": "X55SRBKDfARp"
   },
   "source": [
    "### <font color = purple>Part C</font>\n",
    "\n",
    "The Illinois State Water Survey has determined that sandstone wells in Northeatern Illinois are potentially at-risk when heads approach the top of the uppermost sandstone layer. Using ILWATER (http://isgs.illinois.edu/ilwater), find the well logs for `Elk Grove Village #2` and `Joliet #10` and determine the top of the sandstone aquifer for each (make your best estimate, see the video for questions). Populate the variables with the appropriate values\n",
    "\n",
    "Hint 1, it will be useful to search by the p-number of each well. The pnumber for EG2 is 410765 and for J10 is 409247.\n",
    "\n",
    "Hint 2, ILWATER reports elevations as depth below land surface. "
   ]
  },
  {
   "cell_type": "code",
   "execution_count": null,
   "metadata": {
    "colab": {},
    "colab_type": "code",
    "id": "El9ENsxlfARr"
   },
   "outputs": [],
   "source": [
    "# Sandstone top elevations in ft above mean sea level\n",
    "j10_sstop = \n",
    "eg2_sstop = "
   ]
  },
  {
   "cell_type": "markdown",
   "metadata": {
    "colab_type": "text",
    "id": "Z27j2oD8fARw"
   },
   "source": [
    "### <font color = purple>Part D</font>\n",
    "\n",
    "Make two hydrographs, the first for Elk Grove and the other for Joliet. Each hydrograph should be created using the following rules:\n",
    "\n",
    "<ul>\n",
    "    <li>Rule 1: The y-axis should show elevation in feet above MSL.</li>\n",
    "    <li>Rule 2: The hydrograph should include a dashed line showing the top elevation of the sandstone</li>\n",
    "    <li>Rule 3: Include a title and axes labels.</li>\n",
    "</ul>"
   ]
  },
  {
   "cell_type": "code",
   "execution_count": null,
   "metadata": {
    "colab": {},
    "colab_type": "code",
    "id": "beUD-1JFfARx"
   },
   "outputs": [],
   "source": [
    "# Write your code in this cell"
   ]
  },
  {
   "cell_type": "markdown",
   "metadata": {},
   "source": [
    "### <font color = purple>Part E</font>\n",
    "\n",
    "In a Markdown Cell or a separate Word document, discuss your interpretation of the hydrographs. Be sure to comment on the following:\n",
    "\n",
    "<ul>\n",
    "    <li>Why are water levels declining at Joliet but recovering at Elk Grove?</li>\n",
    "    <li>What are some of the issues that can occur when the sandstone is desaturated (may be referred to as dewatered in some of the videos you have watched)?</li>\n",
    "    <li>Joliet is currently planning on leaving the aquifer by 2030. Do you agree with this decision, or do you think they should wait it out a little longer to avoid the costs of switching to Lake Michigan water?</li>\n",
    "    <li>Lake Michigan water is expensive. Do you think Elk Grove should consider switching back to the deep sandstone aquifer if Joliet is leaving the aquifer?</li>\n",
    "    <li>Based on the limited information you have, would you be concerned if you were a community using the deep sandstone in McHenry County?</li>\n",
    "    <li>What additional data would you like in considering these questions?</li>\n",
    "</ul>\n",
    "\n",
    "Please note that I am not searching for a specific answer, but I would like you to use evidence from both the videos and the hydrographs to back up your arguments. \n",
    "\n",
    "Keep your answers from 1/2 to 1 page, using 12 point font and single spacing with 1 inch margins (if working in Word). "
   ]
  },
  {
   "cell_type": "code",
   "execution_count": null,
   "metadata": {},
   "outputs": [],
   "source": []
  }
 ],
 "metadata": {
  "colab": {
   "name": "Problem Set 2.ipynb",
   "provenance": []
  },
  "kernelspec": {
   "display_name": "Python 3",
   "language": "python",
   "name": "python3"
  },
  "language_info": {
   "codemirror_mode": {
    "name": "ipython",
    "version": 3
   },
   "file_extension": ".py",
   "mimetype": "text/x-python",
   "name": "python",
   "nbconvert_exporter": "python",
   "pygments_lexer": "ipython3",
   "version": "3.8.5"
  }
 },
 "nbformat": 4,
 "nbformat_minor": 1
}
